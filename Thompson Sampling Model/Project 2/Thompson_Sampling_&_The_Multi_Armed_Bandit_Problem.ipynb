{
  "nbformat": 4,
  "nbformat_minor": 0,
  "metadata": {
    "colab": {
      "name": "Notebook for Topic 05 Videos - Thompson Sampling & The Multi-Armed Bandit Problem.ipynb",
      "provenance": []
    },
    "kernelspec": {
      "name": "python3",
      "display_name": "Python 3"
    }
  },
  "cells": [
    {
      "cell_type": "markdown",
      "metadata": {
        "id": "KLHLVLOYi-l7"
      },
      "source": [
        "# Reinforcement Learning - Thompson Sampling & the Multi-Armed Bandit Problem\n",
        "In this notebook, we'll build a reinforcement learning-based artificial intelligence system that implements **Thompson Sampling** in order to solve an instance of the famous **Multi-Armed Bandit Problem**.\n",
        "\n",
        "### Scenario\n",
        "Imagine that you are at a casino, and that you have \\$1,000 to play the slot machines. There are six slot machines available, and each turn playing a machine costs \\$1. The probability of winning on any given turn (which is called the ***conversion rate***) is unknown, and varies from machine to machine. In order to maximize your chances of winning, you would like to be able to identify the slot machine that has the highest conversion rate as quickly as possible. How can you achieve this goal?\n",
        "### Import Required Libraries"
      ]
    },
    {
      "cell_type": "code",
      "metadata": {
        "id": "ceOG7gbaAHVM"
      },
      "source": [
        "#import libraries\n",
        "import numpy as np"
      ],
      "execution_count": 1,
      "outputs": []
    },
    {
      "cell_type": "markdown",
      "metadata": {
        "id": "fw63WRQwghRp"
      },
      "source": [
        "### Define Environment"
      ]
    },
    {
      "cell_type": "code",
      "metadata": {
        "id": "UtWPQQ5BASwf",
        "colab": {
          "base_uri": "https://localhost:8080/"
        },
        "outputId": "4965deb5-e7f0-4565-8223-899c84e59a05"
      },
      "source": [
        "#Define the total number of turns (i.e., the number of times we will play a slot machine).\n",
        "#Remember, we have $1,000 available, and each turn costs $1. We thus have 1,000 turns.\n",
        "number_of_turns = 1000\n",
        "\n",
        "#define the total number of slot machines\n",
        "number_of_slot_machines = 6\n",
        "\n",
        "#Define arrays where we can keep track of our wins (positive rewards) \n",
        "#and losses (negative rewards) for each slot machine.\n",
        "number_of_positive_rewards = np.zeros(number_of_slot_machines)\n",
        "number_of_negative_rewards = np.zeros(number_of_slot_machines)\n",
        "\n",
        "#define a seed for the random number generator (to ensure that results are reproducible)\n",
        "np.random.seed(33)\n",
        "\n",
        "#create a random conversion rate between 1% and 15% for each slot machine\n",
        "conversion_rates = np.random.uniform(0.01, 0.15, number_of_slot_machines)\n",
        "\n",
        "#Show conversion rates for each slot machine. Remember that in a real-world scenario\n",
        "#the decision-maker would not know this information!\n",
        "for i in range(6):\n",
        "  print('Conversion rate for slot machine {0}: {1:.2%}'.format(i, conversion_rates[i]))"
      ],
      "execution_count": 2,
      "outputs": [
        {
          "output_type": "stream",
          "text": [
            "Conversion rate for slot machine 0: 4.48%\n",
            "Conversion rate for slot machine 1: 7.30%\n",
            "Conversion rate for slot machine 2: 6.75%\n",
            "Conversion rate for slot machine 3: 4.64%\n",
            "Conversion rate for slot machine 4: 13.19%\n",
            "Conversion rate for slot machine 5: 3.59%\n"
          ],
          "name": "stdout"
        }
      ]
    },
    {
      "cell_type": "markdown",
      "metadata": {
        "id": "UAnwdAhRg19w"
      },
      "source": [
        "### Create the Data Set"
      ]
    },
    {
      "cell_type": "code",
      "metadata": {
        "id": "1Gmwcfl2Ekx4",
        "colab": {
          "base_uri": "https://localhost:8080/"
        },
        "outputId": "7d87b10e-678b-4ea8-ad58-75043489a11a"
      },
      "source": [
        "#define a seed for the random number generator (to ensure that results are reproducible)\n",
        "np.random.seed(55)\n",
        "\n",
        "#The data set is a matrix with one row for each turn, and one column for each slot machine.\n",
        "#Each item in the matrix represents the outcome of what would happen if we were to play a  \n",
        "#particular slot machine on that particular turn. A value of \"1\" indicates that we would win, \n",
        "#while a value of \"0\" indicates that we would lose. The number of \"wins\" for each slot machine\n",
        "#is determined by its conversion rate.\n",
        "outcomes = np.zeros((number_of_turns, number_of_slot_machines)) #create a two-dimensional numpy array, and fill it with zeros\n",
        "for turn_index in range(number_of_turns): #for each turn\n",
        "    for slot_machine_index in range(number_of_slot_machines): #for each slot machine\n",
        "        #Get a random number between 0.0 and 1.0.\n",
        "        #If the random number is less than or equal to this slot machine's conversion rate, then set the outcome to \"1\".\n",
        "        #Otherwise, the outcome will be \"0\" because the entire matrix was initially filled with zeros.\n",
        "        if np.random.rand() <= conversion_rates[slot_machine_index]:\n",
        "            outcomes[turn_index][slot_machine_index] = 1\n",
        "\n",
        "#display the first 15 rows of data\n",
        "print(outcomes[0:15, 0:6]) #this sort of indexing means \"rows 0 to 14\" (i.e., the first 15 rows) and \"columns 0 through 5\" (i.e., the first six columns)"
      ],
      "execution_count": 3,
      "outputs": [
        {
          "output_type": "stream",
          "text": [
            "[[0. 0. 0. 0. 0. 0.]\n",
            " [0. 1. 0. 0. 1. 0.]\n",
            " [1. 0. 0. 0. 0. 0.]\n",
            " [0. 0. 0. 0. 1. 0.]\n",
            " [0. 0. 0. 0. 0. 0.]\n",
            " [0. 0. 0. 1. 0. 0.]\n",
            " [0. 0. 0. 0. 0. 0.]\n",
            " [0. 0. 0. 0. 0. 0.]\n",
            " [0. 0. 0. 0. 0. 0.]\n",
            " [0. 0. 0. 0. 0. 0.]\n",
            " [0. 0. 0. 0. 0. 0.]\n",
            " [0. 0. 0. 0. 1. 0.]\n",
            " [0. 0. 0. 0. 0. 1.]\n",
            " [0. 0. 0. 0. 1. 0.]\n",
            " [0. 0. 0. 0. 0. 0.]]\n"
          ],
          "name": "stdout"
        }
      ]
    },
    {
      "cell_type": "code",
      "metadata": {
        "id": "l5RFn_AJhmLA",
        "colab": {
          "base_uri": "https://localhost:8080/"
        },
        "outputId": "a2cdf3de-a8ac-481e-9811-b5611e6450eb"
      },
      "source": [
        "#show means (i.e., conversion rates) for each column (i.e., for each slot machine)\n",
        "for i in range(6):\n",
        "  print('Mean for column {0}: {1:.2%}'.format(i, np.mean(outcomes[:, i])))"
      ],
      "execution_count": 4,
      "outputs": [
        {
          "output_type": "stream",
          "text": [
            "Mean for column 0: 4.10%\n",
            "Mean for column 1: 7.10%\n",
            "Mean for column 2: 6.30%\n",
            "Mean for column 3: 4.90%\n",
            "Mean for column 4: 12.30%\n",
            "Mean for column 5: 3.40%\n"
          ],
          "name": "stdout"
        }
      ]
    },
    {
      "cell_type": "markdown",
      "metadata": {
        "id": "iINsn-zDrHII"
      },
      "source": [
        "### Run the Simulation\n",
        "Let's simulate using Thompson Sampling to determine which slot machine to play for each turn..."
      ]
    },
    {
      "cell_type": "code",
      "metadata": {
        "id": "8HDhqWdzi2oD",
        "colab": {
          "base_uri": "https://localhost:8080/"
        },
        "outputId": "c35e7a63-0cd3-4efa-f666-de96393b4602"
      },
      "source": [
        "#for each turn\n",
        "for turn_index in range(number_of_turns):\n",
        "    index_of_machine_to_play = -1\n",
        "    max_beta = -1\n",
        "\n",
        "    #determine which slot machine to play for this turn\n",
        "    for slot_machine_index in range(number_of_slot_machines): #for each slot machine\n",
        "        #Define the shape parameters for the beta distribution. The shape will depend on the number\n",
        "        #of wins and losses that have thus far been observed for this particular slot machine.\n",
        "        a = number_of_positive_rewards[slot_machine_index] + 1\n",
        "        b = number_of_negative_rewards[slot_machine_index] + 1\n",
        "\n",
        "        #Get a random value from the beta distribution whose shape is defined by the number of\n",
        "        #wins and losses that have thus far been observed for this slot machine\n",
        "        random_beta = np.random.beta(a, b)\n",
        "\n",
        "        #if this is the largest beta value thus far observed for this iteration\n",
        "        if random_beta > max_beta:\n",
        "            max_beta = random_beta #update the maximum beta value thus far observed\n",
        "            index_of_machine_to_play = slot_machine_index #set the machine to play to the current machine\n",
        "    \n",
        "    #play the selected slot machine, and record whether we win or lose\n",
        "    if outcomes[turn_index][index_of_machine_to_play] == 1:\n",
        "        number_of_positive_rewards[index_of_machine_to_play] += 1\n",
        "    else:\n",
        "        number_of_negative_rewards[index_of_machine_to_play] += 1\n",
        "\n",
        "#compute and display the total number of times each slot machine was played\n",
        "number_of_times_played = number_of_positive_rewards + number_of_negative_rewards \n",
        "for slot_machine_index in range(number_of_slot_machines): #for each slot machine\n",
        "    print('Slot machine {0} was played {1} times'.format(slot_machine_index, number_of_times_played[slot_machine_index]))\n",
        "\n",
        "#identify and display the best slot machine to play\n",
        "print('\\nOverall Conclusion: The best slot machine to play is machine {}!'.format(np.argmax(number_of_times_played)))"
      ],
      "execution_count": 5,
      "outputs": [
        {
          "output_type": "stream",
          "text": [
            "Slot machine 0 was played 50.0 times\n",
            "Slot machine 1 was played 42.0 times\n",
            "Slot machine 2 was played 63.0 times\n",
            "Slot machine 3 was played 75.0 times\n",
            "Slot machine 4 was played 695.0 times\n",
            "Slot machine 5 was played 75.0 times\n",
            "\n",
            "Overall Conclusion: The best slot machine to play is machine 4!\n"
          ],
          "name": "stdout"
        }
      ]
    },
    {
      "cell_type": "markdown",
      "metadata": {
        "id": "H5rlPKqy1fAf"
      },
      "source": [
        "### Compare the Performance of Thompson Sampling vs. a Random Sampling Strategy"
      ]
    },
    {
      "cell_type": "code",
      "metadata": {
        "id": "FFaeHlVE15fe",
        "colab": {
          "base_uri": "https://localhost:8080/"
        },
        "outputId": "233e7f28-73a1-41ac-f5ac-48283a86138f"
      },
      "source": [
        "#compute total number of wins using Thompson Sampling strategy\n",
        "total_wins_thompson_sampling = np.sum(number_of_positive_rewards)\n",
        "\n",
        "#determine how many times we would win if we randomly choose a slot machine to play for each turn\n",
        "total_wins_random_sampling = 0\n",
        "for turn_index in range(number_of_turns):\n",
        "  index_of_machine_to_play = np.random.randint(0, number_of_slot_machines) #randomly choose a machine to play\n",
        "  if outcomes[turn_index][index_of_machine_to_play] == 1:\n",
        "    total_wins_random_sampling += 1\n",
        "\n",
        "#display results\n",
        "print('Total wins with Thompson Sampling: {0:.0f}'.format(total_wins_thompson_sampling))\n",
        "print('Total wins with Random Sampling: {0:.0f}'.format(total_wins_random_sampling))"
      ],
      "execution_count": 6,
      "outputs": [
        {
          "output_type": "stream",
          "text": [
            "Total wins with Thompson Sampling: 92\n",
            "Total wins with Random Sampling: 59\n"
          ],
          "name": "stdout"
        }
      ]
    },
    {
      "cell_type": "markdown",
      "metadata": {
        "id": "OJHIZ3Ru9be7"
      },
      "source": [
        ""
      ]
    },
    {
      "cell_type": "code",
      "metadata": {
        "id": "Qs-4oeFSijRY"
      },
      "source": [
        ""
      ],
      "execution_count": null,
      "outputs": []
    }
  ]
}